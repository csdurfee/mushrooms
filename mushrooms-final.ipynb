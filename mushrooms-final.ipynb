{
 "cells": [
  {
   "cell_type": "markdown",
   "metadata": {},
   "source": [
    "# Picking Mushrooms\n",
    "## Unsupervised Machine Learning Final\n",
    "### Casey Durfee <casey.durfee@colorado.edu>\n",
    "\n",
    "I'm going to look at a classic, the mushroom data set [UCI Machine Learning Repository] . It's been done to death online as a supervised learning problem, eg [kaggle] . I think it's a neat dataset, so I'm looking at it as an unsupervised problem.\n",
    "\n",
    "# 1. Problem Description\n",
    "Imagine we travel to an alien planet, and we're trying to figure out which mushrooms are safe to eat. Eating them all seems like a bad strategy, but we'd need to do that to build the decision tree (at least for all mushrooms in the training set). Instead, it seems like we could take a bunch of measurements on all the mushrooms, and use an unsupervised algorithm to divide them into piles of mushrooms clustered based on their characteristics, without knowing which are poisonous. We could then sample a few mushrooms from each pile and decide whether the whole pile is safe or not, without having to try them all. An unsupervised method should create better clusters/piles than us just guessing.\n",
    "\n",
    "I will use unsupervised machine learning algorithms to cluster the training data together, with the goal getting the vast majority of the good mushrooms without eating too many bad ones.\n",
    "\n",
    "#### References:\n",
    "[UCI Machine Learning Repository] UCI Machine Learning Repository: Mushroom Data Set. https://archive.ics.uci.edu/ml/datasets/mushroom. Accessed 20 May 2023.    \n",
    "[kaggle] Mushroom Classification | Kaggle. https://www.kaggle.com/datasets/uciml/mushroom-classification. Accessed 20 May 2023."
   ]
  },
  {
   "cell_type": "markdown",
   "metadata": {},
   "source": [
    "# 2. EDA Procedure"
   ]
  },
  {
   "cell_type": "code",
   "execution_count": 1,
   "metadata": {},
   "outputs": [],
   "source": [
    "import pandas as pd\n",
    "import numpy as np\n",
    "\n",
    "import matplotlib.pyplot as plt\n",
    "plt.style.use('dark_background')\n",
    "\n",
    "\n",
    "from sklearn.metrics import ConfusionMatrixDisplay, confusion_matrix, accuracy_score, classification_report\n",
    "\n",
    "COLUMNS = [ # regex find and replace is your friend\n",
    "    \"Y\",\n",
    "    \"cap-shape\",\n",
    "    \"cap-surface\",\n",
    "    \"cap-color\",\n",
    "    \"bruises\",\n",
    "    \"odor\",\n",
    "    \"gill-attachment\",\n",
    "    \"gill-spacing\",\n",
    "    \"gill-size\",\n",
    "    \"gill-color\",\n",
    "    \"stalk-shape\",\n",
    "    \"stalk-root\",\n",
    "    \"stalk-surface-above-ring\",\n",
    "    \"stalk-surface-below-ring\",\n",
    "    \"stalk-color-above-ring\",\n",
    "    \"stalk-color-below-ring\",\n",
    "    \"veil-type\",\n",
    "    \"veil-color\",\n",
    "    \"ring-number\",\n",
    "    \"ring-type\",\n",
    "    \"spore-print-color\",\n",
    "    \"population\",\n",
    "    \"habitat\"\n",
    "]"
   ]
  },
  {
   "cell_type": "code",
   "execution_count": 2,
   "metadata": {},
   "outputs": [
    {
     "data": {
      "text/html": [
       "<div>\n",
       "<style scoped>\n",
       "    .dataframe tbody tr th:only-of-type {\n",
       "        vertical-align: middle;\n",
       "    }\n",
       "\n",
       "    .dataframe tbody tr th {\n",
       "        vertical-align: top;\n",
       "    }\n",
       "\n",
       "    .dataframe thead th {\n",
       "        text-align: right;\n",
       "    }\n",
       "</style>\n",
       "<table border=\"1\" class=\"dataframe\">\n",
       "  <thead>\n",
       "    <tr style=\"text-align: right;\">\n",
       "      <th></th>\n",
       "      <th>cap-shape</th>\n",
       "      <th>cap-surface</th>\n",
       "      <th>cap-color</th>\n",
       "      <th>bruises</th>\n",
       "      <th>odor</th>\n",
       "      <th>gill-attachment</th>\n",
       "      <th>gill-spacing</th>\n",
       "      <th>gill-size</th>\n",
       "      <th>gill-color</th>\n",
       "      <th>stalk-shape</th>\n",
       "      <th>...</th>\n",
       "      <th>stalk-surface-below-ring</th>\n",
       "      <th>stalk-color-above-ring</th>\n",
       "      <th>stalk-color-below-ring</th>\n",
       "      <th>veil-type</th>\n",
       "      <th>veil-color</th>\n",
       "      <th>ring-number</th>\n",
       "      <th>ring-type</th>\n",
       "      <th>spore-print-color</th>\n",
       "      <th>population</th>\n",
       "      <th>habitat</th>\n",
       "    </tr>\n",
       "  </thead>\n",
       "  <tbody>\n",
       "    <tr>\n",
       "      <th>0</th>\n",
       "      <td>x</td>\n",
       "      <td>s</td>\n",
       "      <td>n</td>\n",
       "      <td>t</td>\n",
       "      <td>p</td>\n",
       "      <td>f</td>\n",
       "      <td>c</td>\n",
       "      <td>n</td>\n",
       "      <td>k</td>\n",
       "      <td>e</td>\n",
       "      <td>...</td>\n",
       "      <td>s</td>\n",
       "      <td>w</td>\n",
       "      <td>w</td>\n",
       "      <td>p</td>\n",
       "      <td>w</td>\n",
       "      <td>o</td>\n",
       "      <td>p</td>\n",
       "      <td>k</td>\n",
       "      <td>s</td>\n",
       "      <td>u</td>\n",
       "    </tr>\n",
       "    <tr>\n",
       "      <th>1</th>\n",
       "      <td>x</td>\n",
       "      <td>s</td>\n",
       "      <td>y</td>\n",
       "      <td>t</td>\n",
       "      <td>a</td>\n",
       "      <td>f</td>\n",
       "      <td>c</td>\n",
       "      <td>b</td>\n",
       "      <td>k</td>\n",
       "      <td>e</td>\n",
       "      <td>...</td>\n",
       "      <td>s</td>\n",
       "      <td>w</td>\n",
       "      <td>w</td>\n",
       "      <td>p</td>\n",
       "      <td>w</td>\n",
       "      <td>o</td>\n",
       "      <td>p</td>\n",
       "      <td>n</td>\n",
       "      <td>n</td>\n",
       "      <td>g</td>\n",
       "    </tr>\n",
       "    <tr>\n",
       "      <th>2</th>\n",
       "      <td>b</td>\n",
       "      <td>s</td>\n",
       "      <td>w</td>\n",
       "      <td>t</td>\n",
       "      <td>l</td>\n",
       "      <td>f</td>\n",
       "      <td>c</td>\n",
       "      <td>b</td>\n",
       "      <td>n</td>\n",
       "      <td>e</td>\n",
       "      <td>...</td>\n",
       "      <td>s</td>\n",
       "      <td>w</td>\n",
       "      <td>w</td>\n",
       "      <td>p</td>\n",
       "      <td>w</td>\n",
       "      <td>o</td>\n",
       "      <td>p</td>\n",
       "      <td>n</td>\n",
       "      <td>n</td>\n",
       "      <td>m</td>\n",
       "    </tr>\n",
       "    <tr>\n",
       "      <th>3</th>\n",
       "      <td>x</td>\n",
       "      <td>y</td>\n",
       "      <td>w</td>\n",
       "      <td>t</td>\n",
       "      <td>p</td>\n",
       "      <td>f</td>\n",
       "      <td>c</td>\n",
       "      <td>n</td>\n",
       "      <td>n</td>\n",
       "      <td>e</td>\n",
       "      <td>...</td>\n",
       "      <td>s</td>\n",
       "      <td>w</td>\n",
       "      <td>w</td>\n",
       "      <td>p</td>\n",
       "      <td>w</td>\n",
       "      <td>o</td>\n",
       "      <td>p</td>\n",
       "      <td>k</td>\n",
       "      <td>s</td>\n",
       "      <td>u</td>\n",
       "    </tr>\n",
       "    <tr>\n",
       "      <th>4</th>\n",
       "      <td>x</td>\n",
       "      <td>s</td>\n",
       "      <td>g</td>\n",
       "      <td>f</td>\n",
       "      <td>n</td>\n",
       "      <td>f</td>\n",
       "      <td>w</td>\n",
       "      <td>b</td>\n",
       "      <td>k</td>\n",
       "      <td>t</td>\n",
       "      <td>...</td>\n",
       "      <td>s</td>\n",
       "      <td>w</td>\n",
       "      <td>w</td>\n",
       "      <td>p</td>\n",
       "      <td>w</td>\n",
       "      <td>o</td>\n",
       "      <td>e</td>\n",
       "      <td>n</td>\n",
       "      <td>a</td>\n",
       "      <td>g</td>\n",
       "    </tr>\n",
       "  </tbody>\n",
       "</table>\n",
       "<p>5 rows × 22 columns</p>\n",
       "</div>"
      ],
      "text/plain": [
       "  cap-shape cap-surface cap-color bruises odor gill-attachment gill-spacing  \\\n",
       "0         x           s         n       t    p               f            c   \n",
       "1         x           s         y       t    a               f            c   \n",
       "2         b           s         w       t    l               f            c   \n",
       "3         x           y         w       t    p               f            c   \n",
       "4         x           s         g       f    n               f            w   \n",
       "\n",
       "  gill-size gill-color stalk-shape  ... stalk-surface-below-ring  \\\n",
       "0         n          k           e  ...                        s   \n",
       "1         b          k           e  ...                        s   \n",
       "2         b          n           e  ...                        s   \n",
       "3         n          n           e  ...                        s   \n",
       "4         b          k           t  ...                        s   \n",
       "\n",
       "  stalk-color-above-ring stalk-color-below-ring veil-type veil-color  \\\n",
       "0                      w                      w         p          w   \n",
       "1                      w                      w         p          w   \n",
       "2                      w                      w         p          w   \n",
       "3                      w                      w         p          w   \n",
       "4                      w                      w         p          w   \n",
       "\n",
       "  ring-number ring-type spore-print-color population habitat  \n",
       "0           o         p                 k          s       u  \n",
       "1           o         p                 n          n       g  \n",
       "2           o         p                 n          n       m  \n",
       "3           o         p                 k          s       u  \n",
       "4           o         e                 n          a       g  \n",
       "\n",
       "[5 rows x 22 columns]"
      ]
     },
     "execution_count": 2,
     "metadata": {},
     "output_type": "execute_result"
    }
   ],
   "source": [
    "df = pd.read_csv(\"https://archive.ics.uci.edu/ml/machine-learning-databases/mushroom/agaricus-lepiota.data\", header=None)\n",
    "df = df.set_axis(COLUMNS, axis=1)\n",
    "Y = df.Y\n",
    "df = df.drop([\"Y\"], axis=1)\n",
    "df.head()"
   ]
  },
  {
   "cell_type": "markdown",
   "metadata": {},
   "source": [
    "The data is categorical; data dictionary can be found at https://www.kaggle.com/datasets/uciml/mushroom-classification"
   ]
  },
  {
   "cell_type": "code",
   "execution_count": 3,
   "metadata": {},
   "outputs": [
    {
     "data": {
      "text/html": [
       "<div>\n",
       "<style scoped>\n",
       "    .dataframe tbody tr th:only-of-type {\n",
       "        vertical-align: middle;\n",
       "    }\n",
       "\n",
       "    .dataframe tbody tr th {\n",
       "        vertical-align: top;\n",
       "    }\n",
       "\n",
       "    .dataframe thead th {\n",
       "        text-align: right;\n",
       "    }\n",
       "</style>\n",
       "<table border=\"1\" class=\"dataframe\">\n",
       "  <thead>\n",
       "    <tr style=\"text-align: right;\">\n",
       "      <th></th>\n",
       "      <th>cap-shape</th>\n",
       "      <th>cap-surface</th>\n",
       "      <th>cap-color</th>\n",
       "      <th>bruises</th>\n",
       "      <th>odor</th>\n",
       "      <th>gill-attachment</th>\n",
       "      <th>gill-spacing</th>\n",
       "      <th>gill-size</th>\n",
       "      <th>gill-color</th>\n",
       "      <th>stalk-shape</th>\n",
       "      <th>...</th>\n",
       "      <th>stalk-surface-below-ring</th>\n",
       "      <th>stalk-color-above-ring</th>\n",
       "      <th>stalk-color-below-ring</th>\n",
       "      <th>veil-type</th>\n",
       "      <th>veil-color</th>\n",
       "      <th>ring-number</th>\n",
       "      <th>ring-type</th>\n",
       "      <th>spore-print-color</th>\n",
       "      <th>population</th>\n",
       "      <th>habitat</th>\n",
       "    </tr>\n",
       "  </thead>\n",
       "  <tbody>\n",
       "    <tr>\n",
       "      <th>count</th>\n",
       "      <td>8124</td>\n",
       "      <td>8124</td>\n",
       "      <td>8124</td>\n",
       "      <td>8124</td>\n",
       "      <td>8124</td>\n",
       "      <td>8124</td>\n",
       "      <td>8124</td>\n",
       "      <td>8124</td>\n",
       "      <td>8124</td>\n",
       "      <td>8124</td>\n",
       "      <td>...</td>\n",
       "      <td>8124</td>\n",
       "      <td>8124</td>\n",
       "      <td>8124</td>\n",
       "      <td>8124</td>\n",
       "      <td>8124</td>\n",
       "      <td>8124</td>\n",
       "      <td>8124</td>\n",
       "      <td>8124</td>\n",
       "      <td>8124</td>\n",
       "      <td>8124</td>\n",
       "    </tr>\n",
       "    <tr>\n",
       "      <th>unique</th>\n",
       "      <td>6</td>\n",
       "      <td>4</td>\n",
       "      <td>10</td>\n",
       "      <td>2</td>\n",
       "      <td>9</td>\n",
       "      <td>2</td>\n",
       "      <td>2</td>\n",
       "      <td>2</td>\n",
       "      <td>12</td>\n",
       "      <td>2</td>\n",
       "      <td>...</td>\n",
       "      <td>4</td>\n",
       "      <td>9</td>\n",
       "      <td>9</td>\n",
       "      <td>1</td>\n",
       "      <td>4</td>\n",
       "      <td>3</td>\n",
       "      <td>5</td>\n",
       "      <td>9</td>\n",
       "      <td>6</td>\n",
       "      <td>7</td>\n",
       "    </tr>\n",
       "    <tr>\n",
       "      <th>top</th>\n",
       "      <td>x</td>\n",
       "      <td>y</td>\n",
       "      <td>n</td>\n",
       "      <td>f</td>\n",
       "      <td>n</td>\n",
       "      <td>f</td>\n",
       "      <td>c</td>\n",
       "      <td>b</td>\n",
       "      <td>b</td>\n",
       "      <td>t</td>\n",
       "      <td>...</td>\n",
       "      <td>s</td>\n",
       "      <td>w</td>\n",
       "      <td>w</td>\n",
       "      <td>p</td>\n",
       "      <td>w</td>\n",
       "      <td>o</td>\n",
       "      <td>p</td>\n",
       "      <td>w</td>\n",
       "      <td>v</td>\n",
       "      <td>d</td>\n",
       "    </tr>\n",
       "    <tr>\n",
       "      <th>freq</th>\n",
       "      <td>3656</td>\n",
       "      <td>3244</td>\n",
       "      <td>2284</td>\n",
       "      <td>4748</td>\n",
       "      <td>3528</td>\n",
       "      <td>7914</td>\n",
       "      <td>6812</td>\n",
       "      <td>5612</td>\n",
       "      <td>1728</td>\n",
       "      <td>4608</td>\n",
       "      <td>...</td>\n",
       "      <td>4936</td>\n",
       "      <td>4464</td>\n",
       "      <td>4384</td>\n",
       "      <td>8124</td>\n",
       "      <td>7924</td>\n",
       "      <td>7488</td>\n",
       "      <td>3968</td>\n",
       "      <td>2388</td>\n",
       "      <td>4040</td>\n",
       "      <td>3148</td>\n",
       "    </tr>\n",
       "  </tbody>\n",
       "</table>\n",
       "<p>4 rows × 22 columns</p>\n",
       "</div>"
      ],
      "text/plain": [
       "       cap-shape cap-surface cap-color bruises  odor gill-attachment  \\\n",
       "count       8124        8124      8124    8124  8124            8124   \n",
       "unique         6           4        10       2     9               2   \n",
       "top            x           y         n       f     n               f   \n",
       "freq        3656        3244      2284    4748  3528            7914   \n",
       "\n",
       "       gill-spacing gill-size gill-color stalk-shape  ...  \\\n",
       "count          8124      8124       8124        8124  ...   \n",
       "unique            2         2         12           2  ...   \n",
       "top               c         b          b           t  ...   \n",
       "freq           6812      5612       1728        4608  ...   \n",
       "\n",
       "       stalk-surface-below-ring stalk-color-above-ring stalk-color-below-ring  \\\n",
       "count                      8124                   8124                   8124   \n",
       "unique                        4                      9                      9   \n",
       "top                           s                      w                      w   \n",
       "freq                       4936                   4464                   4384   \n",
       "\n",
       "       veil-type veil-color ring-number ring-type spore-print-color  \\\n",
       "count       8124       8124        8124      8124              8124   \n",
       "unique         1          4           3         5                 9   \n",
       "top            p          w           o         p                 w   \n",
       "freq        8124       7924        7488      3968              2388   \n",
       "\n",
       "       population habitat  \n",
       "count        8124    8124  \n",
       "unique          6       7  \n",
       "top             v       d  \n",
       "freq         4040    3148  \n",
       "\n",
       "[4 rows x 22 columns]"
      ]
     },
     "execution_count": 3,
     "metadata": {},
     "output_type": "execute_result"
    }
   ],
   "source": [
    "df.describe()"
   ]
  },
  {
   "cell_type": "markdown",
   "metadata": {},
   "source": [
    "There are no null values in any of the columns"
   ]
  },
  {
   "cell_type": "code",
   "execution_count": 4,
   "metadata": {},
   "outputs": [
    {
     "data": {
      "text/plain": [
       "cap-shape                   False\n",
       "cap-surface                 False\n",
       "cap-color                   False\n",
       "bruises                     False\n",
       "odor                        False\n",
       "gill-attachment             False\n",
       "gill-spacing                False\n",
       "gill-size                   False\n",
       "gill-color                  False\n",
       "stalk-shape                 False\n",
       "stalk-root                  False\n",
       "stalk-surface-above-ring    False\n",
       "stalk-surface-below-ring    False\n",
       "stalk-color-above-ring      False\n",
       "stalk-color-below-ring      False\n",
       "veil-type                   False\n",
       "veil-color                  False\n",
       "ring-number                 False\n",
       "ring-type                   False\n",
       "spore-print-color           False\n",
       "population                  False\n",
       "habitat                     False\n",
       "dtype: bool"
      ]
     },
     "execution_count": 4,
     "metadata": {},
     "output_type": "execute_result"
    }
   ],
   "source": [
    "df.isna().any()"
   ]
  },
  {
   "cell_type": "markdown",
   "metadata": {},
   "source": [
    "though one column has '?' as one of the categories:"
   ]
  },
  {
   "cell_type": "code",
   "execution_count": 5,
   "metadata": {},
   "outputs": [
    {
     "data": {
      "text/plain": [
       "b    3776\n",
       "?    2480\n",
       "e    1120\n",
       "c     556\n",
       "r     192\n",
       "Name: stalk-root, dtype: int64"
      ]
     },
     "execution_count": 5,
     "metadata": {},
     "output_type": "execute_result"
    }
   ],
   "source": [
    "df['stalk-root'].value_counts()"
   ]
  },
  {
   "cell_type": "markdown",
   "metadata": {},
   "source": [
    "The data is roughly evenly split between edible and poisonous mushrooms.\n",
    "\n",
    "Since they are roughly balanced, and  I am using unsupervised algorithms, I'm not going to worry about the class imbalance."
   ]
  },
  {
   "cell_type": "code",
   "execution_count": 6,
   "metadata": {},
   "outputs": [
    {
     "data": {
      "text/plain": [
       "e    4208\n",
       "p    3916\n",
       "Name: Y, dtype: int64"
      ]
     },
     "execution_count": 6,
     "metadata": {},
     "output_type": "execute_result"
    }
   ],
   "source": [
    "Y.value_counts()"
   ]
  },
  {
   "cell_type": "markdown",
   "metadata": {},
   "source": [
    "Let's explore a few attributes."
   ]
  },
  {
   "cell_type": "code",
   "execution_count": 7,
   "metadata": {},
   "outputs": [
    {
     "data": {
      "text/plain": [
       "<Axes: >"
      ]
     },
     "execution_count": 7,
     "metadata": {},
     "output_type": "execute_result"
    },
    {
     "data": {
      "image/png": "[encoded data removed]",
      "text/plain": [
       "<Figure size 432x288 with 1 Axes>"
      ]
     },
     "metadata": {
      "needs_background": "dark"
     },
     "output_type": "display_data"
    }
   ],
   "source": [
    "df['cap-shape'].value_counts().plot(kind=\"bar\")\n"
   ]
  },
  {
   "cell_type": "code",
   "execution_count": 8,
   "metadata": {},
   "outputs": [
    {
     "data": {
      "text/plain": [
       "<Axes: >"
      ]
     },
     "execution_count": 8,
     "metadata": {},
     "output_type": "execute_result"
    },
    {
     "data": {
      "image/png": "[encoded data removed]",
      "text/plain": [
       "<Figure size 432x288 with 1 Axes>"
      ]
     },
     "metadata": {
      "needs_background": "dark"
     },
     "output_type": "display_data"
    }
   ],
   "source": [
    "df['gill-color'].value_counts().plot(kind=\"bar\")"
   ]
  },
  {
   "cell_type": "markdown",
   "metadata": {},
   "source": [
    "These are categorical variables, so we can't just do a quick `df.corr()` to see linkages between attributes. what we can do is one-hot encode it and look for correlations there. Turns out, this is kind of tedious!\n",
    "\n",
    "The factors are categorical, meaning they have no inherent order to them. So onehot is the only sensible choice for turning them into numbers."
   ]
  },
  {
   "cell_type": "code",
   "execution_count": 9,
   "metadata": {},
   "outputs": [
    {
     "data": {
      "text/plain": [
       "<8124x117 sparse matrix of type '<class 'numpy.float64'>'\n",
       "\twith 178728 stored elements in Compressed Sparse Row format>"
      ]
     },
     "execution_count": 9,
     "metadata": {},
     "output_type": "execute_result"
    }
   ],
   "source": [
    "from sklearn import preprocessing\n",
    "\n",
    "enc = preprocessing.OneHotEncoder()\n",
    "enc.fit(df)\n",
    "onehot = enc.transform(df)\n",
    "\n",
    "onehot"
   ]
  },
  {
   "cell_type": "markdown",
   "metadata": {},
   "source": [
    "need to grab synthetic column names for onehot dataframe."
   ]
  },
  {
   "cell_type": "code",
   "execution_count": 10,
   "metadata": {},
   "outputs": [
    {
     "data": {
      "text/plain": [
       "(117,)"
      ]
     },
     "execution_count": 10,
     "metadata": {},
     "output_type": "execute_result"
    }
   ],
   "source": [
    "onehot_features = enc.get_feature_names_out()\n",
    "onehot_features.shape"
   ]
  },
  {
   "cell_type": "code",
   "execution_count": 11,
   "metadata": {},
   "outputs": [
    {
     "data": {
      "text/html": [
       "<div>\n",
       "<style scoped>\n",
       "    .dataframe tbody tr th:only-of-type {\n",
       "        vertical-align: middle;\n",
       "    }\n",
       "\n",
       "    .dataframe tbody tr th {\n",
       "        vertical-align: top;\n",
       "    }\n",
       "\n",
       "    .dataframe thead th {\n",
       "        text-align: right;\n",
       "    }\n",
       "</style>\n",
       "<table border=\"1\" class=\"dataframe\">\n",
       "  <thead>\n",
       "    <tr style=\"text-align: right;\">\n",
       "      <th></th>\n",
       "      <th>cap-shape_b</th>\n",
       "      <th>cap-shape_c</th>\n",
       "      <th>cap-shape_f</th>\n",
       "      <th>cap-shape_k</th>\n",
       "      <th>cap-shape_s</th>\n",
       "      <th>cap-shape_x</th>\n",
       "      <th>cap-surface_f</th>\n",
       "      <th>cap-surface_g</th>\n",
       "      <th>cap-surface_s</th>\n",
       "      <th>cap-surface_y</th>\n",
       "      <th>...</th>\n",
       "      <th>population_s</th>\n",
       "      <th>population_v</th>\n",
       "      <th>population_y</th>\n",
       "      <th>habitat_d</th>\n",
       "      <th>habitat_g</th>\n",
       "      <th>habitat_l</th>\n",
       "      <th>habitat_m</th>\n",
       "      <th>habitat_p</th>\n",
       "      <th>habitat_u</th>\n",
       "      <th>habitat_w</th>\n",
       "    </tr>\n",
       "  </thead>\n",
       "  <tbody>\n",
       "    <tr>\n",
       "      <th>0</th>\n",
       "      <td>0.0</td>\n",
       "      <td>0.0</td>\n",
       "      <td>0.0</td>\n",
       "      <td>0.0</td>\n",
       "      <td>0.0</td>\n",
       "      <td>1.0</td>\n",
       "      <td>0.0</td>\n",
       "      <td>0.0</td>\n",
       "      <td>1.0</td>\n",
       "      <td>0.0</td>\n",
       "      <td>...</td>\n",
       "      <td>1.0</td>\n",
       "      <td>0.0</td>\n",
       "      <td>0.0</td>\n",
       "      <td>0.0</td>\n",
       "      <td>0.0</td>\n",
       "      <td>0.0</td>\n",
       "      <td>0.0</td>\n",
       "      <td>0.0</td>\n",
       "      <td>1.0</td>\n",
       "      <td>0.0</td>\n",
       "    </tr>\n",
       "    <tr>\n",
       "      <th>1</th>\n",
       "      <td>0.0</td>\n",
       "      <td>0.0</td>\n",
       "      <td>0.0</td>\n",
       "      <td>0.0</td>\n",
       "      <td>0.0</td>\n",
       "      <td>1.0</td>\n",
       "      <td>0.0</td>\n",
       "      <td>0.0</td>\n",
       "      <td>1.0</td>\n",
       "      <td>0.0</td>\n",
       "      <td>...</td>\n",
       "      <td>0.0</td>\n",
       "      <td>0.0</td>\n",
       "      <td>0.0</td>\n",
       "      <td>0.0</td>\n",
       "      <td>1.0</td>\n",
       "      <td>0.0</td>\n",
       "      <td>0.0</td>\n",
       "      <td>0.0</td>\n",
       "      <td>0.0</td>\n",
       "      <td>0.0</td>\n",
       "    </tr>\n",
       "    <tr>\n",
       "      <th>2</th>\n",
       "      <td>1.0</td>\n",
       "      <td>0.0</td>\n",
       "      <td>0.0</td>\n",
       "      <td>0.0</td>\n",
       "      <td>0.0</td>\n",
       "      <td>0.0</td>\n",
       "      <td>0.0</td>\n",
       "      <td>0.0</td>\n",
       "      <td>1.0</td>\n",
       "      <td>0.0</td>\n",
       "      <td>...</td>\n",
       "      <td>0.0</td>\n",
       "      <td>0.0</td>\n",
       "      <td>0.0</td>\n",
       "      <td>0.0</td>\n",
       "      <td>0.0</td>\n",
       "      <td>0.0</td>\n",
       "      <td>1.0</td>\n",
       "      <td>0.0</td>\n",
       "      <td>0.0</td>\n",
       "      <td>0.0</td>\n",
       "    </tr>\n",
       "    <tr>\n",
       "      <th>3</th>\n",
       "      <td>0.0</td>\n",
       "      <td>0.0</td>\n",
       "      <td>0.0</td>\n",
       "      <td>0.0</td>\n",
       "      <td>0.0</td>\n",
       "      <td>1.0</td>\n",
       "      <td>0.0</td>\n",
       "      <td>0.0</td>\n",
       "      <td>0.0</td>\n",
       "      <td>1.0</td>\n",
       "      <td>...</td>\n",
       "      <td>1.0</td>\n",
       "      <td>0.0</td>\n",
       "      <td>0.0</td>\n",
       "      <td>0.0</td>\n",
       "      <td>0.0</td>\n",
       "      <td>0.0</td>\n",
       "      <td>0.0</td>\n",
       "      <td>0.0</td>\n",
       "      <td>1.0</td>\n",
       "      <td>0.0</td>\n",
       "    </tr>\n",
       "    <tr>\n",
       "      <th>4</th>\n",
       "      <td>0.0</td>\n",
       "      <td>0.0</td>\n",
       "      <td>0.0</td>\n",
       "      <td>0.0</td>\n",
       "      <td>0.0</td>\n",
       "      <td>1.0</td>\n",
       "      <td>0.0</td>\n",
       "      <td>0.0</td>\n",
       "      <td>1.0</td>\n",
       "      <td>0.0</td>\n",
       "      <td>...</td>\n",
       "      <td>0.0</td>\n",
       "      <td>0.0</td>\n",
       "      <td>0.0</td>\n",
       "      <td>0.0</td>\n",
       "      <td>1.0</td>\n",
       "      <td>0.0</td>\n",
       "      <td>0.0</td>\n",
       "      <td>0.0</td>\n",
       "      <td>0.0</td>\n",
       "      <td>0.0</td>\n",
       "    </tr>\n",
       "  </tbody>\n",
       "</table>\n",
       "<p>5 rows × 117 columns</p>\n",
       "</div>"
      ],
      "text/plain": [
       "   cap-shape_b  cap-shape_c  cap-shape_f  cap-shape_k  cap-shape_s  \\\n",
       "0          0.0          0.0          0.0          0.0          0.0   \n",
       "1          0.0          0.0          0.0          0.0          0.0   \n",
       "2          1.0          0.0          0.0          0.0          0.0   \n",
       "3          0.0          0.0          0.0          0.0          0.0   \n",
       "4          0.0          0.0          0.0          0.0          0.0   \n",
       "\n",
       "   cap-shape_x  cap-surface_f  cap-surface_g  cap-surface_s  cap-surface_y  \\\n",
       "0          1.0            0.0            0.0            1.0            0.0   \n",
       "1          1.0            0.0            0.0            1.0            0.0   \n",
       "2          0.0            0.0            0.0            1.0            0.0   \n",
       "3          1.0            0.0            0.0            0.0            1.0   \n",
       "4          1.0            0.0            0.0            1.0            0.0   \n",
       "\n",
       "   ...  population_s  population_v  population_y  habitat_d  habitat_g  \\\n",
       "0  ...           1.0           0.0           0.0        0.0        0.0   \n",
       "1  ...           0.0           0.0           0.0        0.0        1.0   \n",
       "2  ...           0.0           0.0           0.0        0.0        0.0   \n",
       "3  ...           1.0           0.0           0.0        0.0        0.0   \n",
       "4  ...           0.0           0.0           0.0        0.0        1.0   \n",
       "\n",
       "   habitat_l  habitat_m  habitat_p  habitat_u  habitat_w  \n",
       "0        0.0        0.0        0.0        1.0        0.0  \n",
       "1        0.0        0.0        0.0        0.0        0.0  \n",
       "2        0.0        1.0        0.0        0.0        0.0  \n",
       "3        0.0        0.0        0.0        1.0        0.0  \n",
       "4        0.0        0.0        0.0        0.0        0.0  \n",
       "\n",
       "[5 rows x 117 columns]"
      ]
     },
     "execution_count": 11,
     "metadata": {},
     "output_type": "execute_result"
    }
   ],
   "source": [
    "df_onehot = pd.DataFrame(onehot.toarray(), columns=onehot_features)\n",
    "df_onehot.head()"
   ]
  },
  {
   "cell_type": "code",
   "execution_count": 12,
   "metadata": {},
   "outputs": [],
   "source": [
    "corrs = df_onehot.corr().unstack().sort_values().drop_duplicates()\n"
   ]
  },
  {
   "cell_type": "code",
   "execution_count": 13,
   "metadata": {},
   "outputs": [],
   "source": [
    "corrs =pd.DataFrame(corrs)\n",
    "\n",
    "corrs = corrs.reset_index()"
   ]
  },
  {
   "cell_type": "code",
   "execution_count": 14,
   "metadata": {},
   "outputs": [],
   "source": [
    "corrs.columns = ['val1', 'val2', 'correlation']"
   ]
  },
  {
   "cell_type": "code",
   "execution_count": 15,
   "metadata": {},
   "outputs": [
    {
     "data": {
      "text/html": [
       "<div>\n",
       "<style scoped>\n",
       "    .dataframe tbody tr th:only-of-type {\n",
       "        vertical-align: middle;\n",
       "    }\n",
       "\n",
       "    .dataframe tbody tr th {\n",
       "        vertical-align: top;\n",
       "    }\n",
       "\n",
       "    .dataframe thead th {\n",
       "        text-align: right;\n",
       "    }\n",
       "</style>\n",
       "<table border=\"1\" class=\"dataframe\">\n",
       "  <thead>\n",
       "    <tr style=\"text-align: right;\">\n",
       "      <th></th>\n",
       "      <th>val1</th>\n",
       "      <th>val2</th>\n",
       "      <th>correlation</th>\n",
       "    </tr>\n",
       "  </thead>\n",
       "  <tbody>\n",
       "    <tr>\n",
       "      <th>0</th>\n",
       "      <td>gill-size_n</td>\n",
       "      <td>gill-size_b</td>\n",
       "      <td>-1.000000</td>\n",
       "    </tr>\n",
       "    <tr>\n",
       "      <th>1</th>\n",
       "      <td>stalk-shape_e</td>\n",
       "      <td>stalk-shape_t</td>\n",
       "      <td>-1.000000</td>\n",
       "    </tr>\n",
       "    <tr>\n",
       "      <th>2</th>\n",
       "      <td>gill-spacing_w</td>\n",
       "      <td>gill-spacing_c</td>\n",
       "      <td>-1.000000</td>\n",
       "    </tr>\n",
       "    <tr>\n",
       "      <th>3</th>\n",
       "      <td>bruises_t</td>\n",
       "      <td>bruises_f</td>\n",
       "      <td>-1.000000</td>\n",
       "    </tr>\n",
       "    <tr>\n",
       "      <th>4</th>\n",
       "      <td>veil-color_w</td>\n",
       "      <td>stalk-color-below-ring_o</td>\n",
       "      <td>-0.979302</td>\n",
       "    </tr>\n",
       "    <tr>\n",
       "      <th>...</th>\n",
       "      <td>...</td>\n",
       "      <td>...</td>\n",
       "      <td>...</td>\n",
       "    </tr>\n",
       "    <tr>\n",
       "      <th>5904</th>\n",
       "      <td>ring-type_l</td>\n",
       "      <td>spore-print-color_h</td>\n",
       "      <td>0.868930</td>\n",
       "    </tr>\n",
       "    <tr>\n",
       "      <th>5905</th>\n",
       "      <td>spore-print-color_w</td>\n",
       "      <td>stalk-root_?</td>\n",
       "      <td>0.886541</td>\n",
       "    </tr>\n",
       "    <tr>\n",
       "      <th>5906</th>\n",
       "      <td>gill-attachment_f</td>\n",
       "      <td>veil-color_w</td>\n",
       "      <td>0.935238</td>\n",
       "    </tr>\n",
       "    <tr>\n",
       "      <th>5907</th>\n",
       "      <td>gill-attachment_a</td>\n",
       "      <td>stalk-color-above-ring_o</td>\n",
       "      <td>0.955097</td>\n",
       "    </tr>\n",
       "    <tr>\n",
       "      <th>5908</th>\n",
       "      <td>habitat_u</td>\n",
       "      <td>habitat_u</td>\n",
       "      <td>1.000000</td>\n",
       "    </tr>\n",
       "  </tbody>\n",
       "</table>\n",
       "<p>5909 rows × 3 columns</p>\n",
       "</div>"
      ],
      "text/plain": [
       "                     val1                      val2  correlation\n",
       "0             gill-size_n               gill-size_b    -1.000000\n",
       "1           stalk-shape_e             stalk-shape_t    -1.000000\n",
       "2          gill-spacing_w            gill-spacing_c    -1.000000\n",
       "3               bruises_t                 bruises_f    -1.000000\n",
       "4            veil-color_w  stalk-color-below-ring_o    -0.979302\n",
       "...                   ...                       ...          ...\n",
       "5904          ring-type_l       spore-print-color_h     0.868930\n",
       "5905  spore-print-color_w              stalk-root_?     0.886541\n",
       "5906    gill-attachment_f              veil-color_w     0.935238\n",
       "5907    gill-attachment_a  stalk-color-above-ring_o     0.955097\n",
       "5908            habitat_u                 habitat_u     1.000000\n",
       "\n",
       "[5909 rows x 3 columns]"
      ]
     },
     "execution_count": 15,
     "metadata": {},
     "output_type": "execute_result"
    }
   ],
   "source": [
    "corrs = corrs[(corrs.correlation < 1.0) | (corrs.correlation > -1.0)]\n",
    "corrs"
   ]
  },
  {
   "cell_type": "markdown",
   "metadata": {},
   "source": [
    "this is a good start, but of course gill-size_n and gill-size_b are correlated with each other. let's knock out the ones in the same factor and ones on the diagonal (1 & -1)\n",
    "\n",
    "There are a lot of values with a pretty high correlation (.5-.7 range).  there aren't a ton with correlation over .7. so the data is pretty rich but should be amenable to PCA."
   ]
  },
  {
   "cell_type": "code",
   "execution_count": 16,
   "metadata": {},
   "outputs": [
    {
     "data": {
      "text/html": [
       "<div>\n",
       "<style scoped>\n",
       "    .dataframe tbody tr th:only-of-type {\n",
       "        vertical-align: middle;\n",
       "    }\n",
       "\n",
       "    .dataframe tbody tr th {\n",
       "        vertical-align: top;\n",
       "    }\n",
       "\n",
       "    .dataframe thead th {\n",
       "        text-align: right;\n",
       "    }\n",
       "</style>\n",
       "<table border=\"1\" class=\"dataframe\">\n",
       "  <thead>\n",
       "    <tr style=\"text-align: right;\">\n",
       "      <th></th>\n",
       "      <th>val1</th>\n",
       "      <th>val2</th>\n",
       "      <th>correlation</th>\n",
       "    </tr>\n",
       "  </thead>\n",
       "  <tbody>\n",
       "    <tr>\n",
       "      <th>5907</th>\n",
       "      <td>gill-attachment_a</td>\n",
       "      <td>stalk-color-above-ring_o</td>\n",
       "      <td>0.955097</td>\n",
       "    </tr>\n",
       "    <tr>\n",
       "      <th>5906</th>\n",
       "      <td>gill-attachment_f</td>\n",
       "      <td>veil-color_w</td>\n",
       "      <td>0.935238</td>\n",
       "    </tr>\n",
       "    <tr>\n",
       "      <th>5902</th>\n",
       "      <td>gill-color_b</td>\n",
       "      <td>spore-print-color_w</td>\n",
       "      <td>0.805573</td>\n",
       "    </tr>\n",
       "    <tr>\n",
       "      <th>5890</th>\n",
       "      <td>habitat_w</td>\n",
       "      <td>gill-color_e</td>\n",
       "      <td>0.702866</td>\n",
       "    </tr>\n",
       "    <tr>\n",
       "      <th>5897</th>\n",
       "      <td>habitat_w</td>\n",
       "      <td>population_c</td>\n",
       "      <td>0.744425</td>\n",
       "    </tr>\n",
       "    <tr>\n",
       "      <th>5891</th>\n",
       "      <td>habitat_w</td>\n",
       "      <td>stalk-color-below-ring_e</td>\n",
       "      <td>0.702866</td>\n",
       "    </tr>\n",
       "    <tr>\n",
       "      <th>5901</th>\n",
       "      <td>odor_f</td>\n",
       "      <td>spore-print-color_h</td>\n",
       "      <td>0.799752</td>\n",
       "    </tr>\n",
       "    <tr>\n",
       "      <th>5895</th>\n",
       "      <td>ring-type_e</td>\n",
       "      <td>gill-color_b</td>\n",
       "      <td>0.721446</td>\n",
       "    </tr>\n",
       "    <tr>\n",
       "      <th>5896</th>\n",
       "      <td>ring-type_l</td>\n",
       "      <td>odor_f</td>\n",
       "      <td>0.723932</td>\n",
       "    </tr>\n",
       "    <tr>\n",
       "      <th>5904</th>\n",
       "      <td>ring-type_l</td>\n",
       "      <td>spore-print-color_h</td>\n",
       "      <td>0.868930</td>\n",
       "    </tr>\n",
       "    <tr>\n",
       "      <th>11</th>\n",
       "      <td>ring-type_p</td>\n",
       "      <td>bruises_f</td>\n",
       "      <td>-0.767036</td>\n",
       "    </tr>\n",
       "    <tr>\n",
       "      <th>5898</th>\n",
       "      <td>ring-type_p</td>\n",
       "      <td>bruises_t</td>\n",
       "      <td>0.767036</td>\n",
       "    </tr>\n",
       "    <tr>\n",
       "      <th>5905</th>\n",
       "      <td>spore-print-color_w</td>\n",
       "      <td>stalk-root_?</td>\n",
       "      <td>0.886541</td>\n",
       "    </tr>\n",
       "    <tr>\n",
       "      <th>5893</th>\n",
       "      <td>stalk-color-above-ring_e</td>\n",
       "      <td>habitat_w</td>\n",
       "      <td>0.702866</td>\n",
       "    </tr>\n",
       "    <tr>\n",
       "      <th>6</th>\n",
       "      <td>stalk-color-above-ring_o</td>\n",
       "      <td>gill-attachment_f</td>\n",
       "      <td>-0.955097</td>\n",
       "    </tr>\n",
       "    <tr>\n",
       "      <th>5892</th>\n",
       "      <td>stalk-color-above-ring_o</td>\n",
       "      <td>veil-color_o</td>\n",
       "      <td>0.702866</td>\n",
       "    </tr>\n",
       "    <tr>\n",
       "      <th>5894</th>\n",
       "      <td>stalk-color-below-ring_o</td>\n",
       "      <td>veil-color_n</td>\n",
       "      <td>0.702866</td>\n",
       "    </tr>\n",
       "    <tr>\n",
       "      <th>5900</th>\n",
       "      <td>stalk-root_?</td>\n",
       "      <td>gill-color_b</td>\n",
       "      <td>0.784125</td>\n",
       "    </tr>\n",
       "    <tr>\n",
       "      <th>7</th>\n",
       "      <td>veil-color_w</td>\n",
       "      <td>gill-attachment_a</td>\n",
       "      <td>-0.935238</td>\n",
       "    </tr>\n",
       "    <tr>\n",
       "      <th>4</th>\n",
       "      <td>veil-color_w</td>\n",
       "      <td>stalk-color-below-ring_o</td>\n",
       "      <td>-0.979302</td>\n",
       "    </tr>\n",
       "  </tbody>\n",
       "</table>\n",
       "</div>"
      ],
      "text/plain": [
       "                          val1                      val2  correlation\n",
       "5907         gill-attachment_a  stalk-color-above-ring_o     0.955097\n",
       "5906         gill-attachment_f              veil-color_w     0.935238\n",
       "5902              gill-color_b       spore-print-color_w     0.805573\n",
       "5890                 habitat_w              gill-color_e     0.702866\n",
       "5897                 habitat_w              population_c     0.744425\n",
       "5891                 habitat_w  stalk-color-below-ring_e     0.702866\n",
       "5901                    odor_f       spore-print-color_h     0.799752\n",
       "5895               ring-type_e              gill-color_b     0.721446\n",
       "5896               ring-type_l                    odor_f     0.723932\n",
       "5904               ring-type_l       spore-print-color_h     0.868930\n",
       "11                 ring-type_p                 bruises_f    -0.767036\n",
       "5898               ring-type_p                 bruises_t     0.767036\n",
       "5905       spore-print-color_w              stalk-root_?     0.886541\n",
       "5893  stalk-color-above-ring_e                 habitat_w     0.702866\n",
       "6     stalk-color-above-ring_o         gill-attachment_f    -0.955097\n",
       "5892  stalk-color-above-ring_o              veil-color_o     0.702866\n",
       "5894  stalk-color-below-ring_o              veil-color_n     0.702866\n",
       "5900              stalk-root_?              gill-color_b     0.784125\n",
       "7                 veil-color_w         gill-attachment_a    -0.935238\n",
       "4                 veil-color_w  stalk-color-below-ring_o    -0.979302"
      ]
     },
     "execution_count": 16,
     "metadata": {},
     "output_type": "execute_result"
    }
   ],
   "source": [
    "corrs = corrs[(corrs.val1.str[:4] != corrs.val2.str[:4])]\n",
    "\n",
    "corrs[(corrs.correlation.abs() > .7)].sort_values(by=['val1', 'val2'])"
   ]
  },
  {
   "cell_type": "markdown",
   "metadata": {},
   "source": [
    "## PCA\n",
    "\n",
    "Are there clusters in the data? we can get a feel by projecting down to 2D and 3D pca."
   ]
  },
  {
   "cell_type": "code",
   "execution_count": 17,
   "metadata": {},
   "outputs": [
    {
     "data": {
      "text/plain": [
       "<matplotlib.collections.PathCollection at 0x128ead550>"
      ]
     },
     "execution_count": 17,
     "metadata": {},
     "output_type": "execute_result"
    },
    {
     "data": {
      "image/png": "[encoded data removed]",
      "text/plain": [
       "<Figure size 432x288 with 1 Axes>"
      ]
     },
     "metadata": {
      "needs_background": "dark"
     },
     "output_type": "display_data"
    }
   ],
   "source": [
    "from sklearn.decomposition import PCA\n",
    "\n",
    "enc_full = preprocessing.OneHotEncoder()\n",
    "enc_full.fit(df)\n",
    "df_onehot = enc.transform(df).toarray()\n",
    "\n",
    "pca = PCA(n_components=2)\n",
    "pca = pca.fit(df_onehot)\n",
    "\n",
    "df_pca = pca.transform(df_onehot)\n",
    "\n",
    "plt.scatter(\n",
    "         df_pca[:, 0], df_pca[:, 1], alpha=0.5\n",
    "     )"
   ]
  },
  {
   "cell_type": "markdown",
   "metadata": {},
   "source": [
    "what about in 3 dimensions? there could be 2 clusters right on top of each other, or one in front of each other. ideally we'd see separation on all 2D slices of the 3D PCA"
   ]
  },
  {
   "cell_type": "code",
   "execution_count": 18,
   "metadata": {},
   "outputs": [
    {
     "data": {
      "image/png": "[encoded data removed]",
      "text/plain": [
       "<Figure size 432x288 with 1 Axes>"
      ]
     },
     "metadata": {
      "needs_background": "dark"
     },
     "output_type": "display_data"
    },
    {
     "data": {
      "image/png": "[encoded data removed]",
      "text/plain": [
       "<Figure size 432x288 with 1 Axes>"
      ]
     },
     "metadata": {
      "needs_background": "dark"
     },
     "output_type": "display_data"
    },
    {
     "data": {
      "image/png": "[encoded data removed]",
      "text/plain": [
       "<Figure size 432x288 with 1 Axes>"
      ]
     },
     "metadata": {
      "needs_background": "dark"
     },
     "output_type": "display_data"
    }
   ],
   "source": [
    "pca3 = PCA(n_components=3) \n",
    "pca3 = pca3.fit(df_onehot)\n",
    "\n",
    "df_pca = pca3.transform(df_onehot)\n",
    "\n",
    "plt.scatter(\n",
    "         df_pca[:, 0], df_pca[:, 1], alpha=0.5\n",
    "     )\n",
    "plt.show()\n",
    "\n",
    "plt.scatter(\n",
    "         df_pca[:, 0], df_pca[:, 2], alpha=0.5\n",
    "     )\n",
    "plt.show()\n",
    "\n",
    "plt.scatter(\n",
    "         df_pca[:, 1], df_pca[:, 2], alpha=0.5\n",
    "     )\n",
    "plt.show()"
   ]
  },
  {
   "cell_type": "markdown",
   "metadata": {},
   "source": [
    "as they say, thinking in n dimensions is hard, especially for n>3. so I'll stop there. but I think there's clear clusters in the data. of course it's a big assumption that the clusters are homogenous, but let's assume they are for now."
   ]
  },
  {
   "cell_type": "markdown",
   "metadata": {},
   "source": [
    "### Matrix Factorization\n",
    "\n",
    "this is just about the most naive way we can do this. treat 'edible' and 'poisonous' as latent topics; split the onehot data into those topics. we will then need to sample one pile to figure out which one is the poisonous pile (we hope).\n",
    "\n",
    "A higher number of clusters, eg. `n_components=8` might work better, but I think other methods are more theoretically justified, so I'm not going to optimize this one."
   ]
  },
  {
   "cell_type": "code",
   "execution_count": 19,
   "metadata": {},
   "outputs": [
    {
     "name": "stdout",
     "output_type": "stream",
     "text": [
      "Accuracy: 0.8767848350566223\n"
     ]
    },
    {
     "data": {
      "image/png": "[encoded data removed]",
      "text/plain": [
       "<Figure size 432x288 with 2 Axes>"
      ]
     },
     "metadata": {
      "needs_background": "dark"
     },
     "output_type": "display_data"
    }
   ],
   "source": [
    "from sklearn.decomposition import NMF\n",
    "\n",
    "nmf_model = NMF(init='nndsvda', n_components=2)\n",
    "nmf_fit = nmf_model.fit_transform(df_onehot)\n",
    "\n",
    "labels = {\n",
    "    0: 'e',\n",
    "    1: 'p' # determined by manual inspection\n",
    "}\n",
    "\n",
    "nmf_predicted = []\n",
    "for mushroom in nmf_fit:\n",
    "    edibility = labels[pd.Series(mushroom).idxmax()]\n",
    "    nmf_predicted.append(edibility)\n",
    "\n",
    "\n",
    "cm = confusion_matrix(Y, nmf_predicted)\n",
    "\n",
    "ConfusionMatrixDisplay(cm).plot()\n",
    "\n",
    "\n",
    "acc = accuracy_score(Y, nmf_predicted)\n",
    "\n",
    "print(f\"Accuracy: {acc}\")"
   ]
  },
  {
   "cell_type": "markdown",
   "metadata": {},
   "source": [
    "### K-Means Clustering"
   ]
  },
  {
   "cell_type": "markdown",
   "metadata": {},
   "source": [
    "for k-means clustering, we need to figure out the optimal number of clusters. based on the PCA, it looks like 8-10 is ideal.\n",
    "\n",
    "One method to find the number of clusters is the elbow method:"
   ]
  },
  {
   "cell_type": "code",
   "execution_count": 20,
   "metadata": {},
   "outputs": [
    {
     "data": {
      "image/png": "[encoded data removed]",
      "text/plain": [
       "<Figure size 432x288 with 1 Axes>"
      ]
     },
     "metadata": {
      "needs_background": "dark"
     },
     "output_type": "display_data"
    }
   ],
   "source": [
    "from sklearn.cluster import AgglomerativeClustering, KMeans\n",
    "\n",
    "def do_elbow(data, start=2, end=10):\n",
    "    elbow_stats = []\n",
    "\n",
    "    for x in range(start, end):\n",
    "        k = KMeans(n_clusters=x, random_state=2178, max_iter=300, init='random')\n",
    "        k.fit(data)\n",
    "        elbow_stats.append(k.inertia_)\n",
    "\n",
    "    plt.plot(range(start,end), elbow_stats)\n",
    "    plt.show()\n",
    "\n",
    "do_elbow(df_onehot, start=2, end=20)"
   ]
  },
  {
   "cell_type": "markdown",
   "metadata": {},
   "source": [
    "not much of an elbow there. let's try the silhouette test instead."
   ]
  },
  {
   "cell_type": "code",
   "execution_count": 21,
   "metadata": {},
   "outputs": [
    {
     "data": {
      "image/png": "[encoded data removed]",
      "text/plain": [
       "<Figure size 432x288 with 1 Axes>"
      ]
     },
     "metadata": {
      "needs_background": "dark"
     },
     "output_type": "display_data"
    }
   ],
   "source": [
    "from sklearn.metrics import silhouette_samples, silhouette_score\n",
    "\n",
    "\n",
    "def do_sil(data, start=2, end=10):\n",
    "    stats = []\n",
    "\n",
    "    for x in range(start, end):\n",
    "        k = KMeans(n_clusters=x, random_state=2178, max_iter=300, init='random')\n",
    "        k.fit(data)\n",
    "        score = silhouette_score(data, k.labels_)\n",
    "        stats.append(score)\n",
    "\n",
    "    plt.plot(range(start,end), stats)\n",
    "\n",
    "\n",
    "do_sil(df_onehot, 5, 15)\n",
    "plt.title(\"Silhouette - One Hot encoding\")\n",
    "plt.show()"
   ]
  },
  {
   "cell_type": "markdown",
   "metadata": {},
   "source": [
    "yeah, so that confirms the PCA. `k=8` it is."
   ]
  },
  {
   "cell_type": "code",
   "execution_count": 22,
   "metadata": {},
   "outputs": [],
   "source": [
    "k_means_model = KMeans(n_clusters=8, random_state=2178, max_iter=300, init='random')\n",
    "\n",
    "labels = k_means_model.fit_predict(df_onehot)"
   ]
  },
  {
   "cell_type": "markdown",
   "metadata": {},
   "source": [
    "as discussed in the video, we are going to treat each cluster as a \"pile\" of mushrooms. we will sample the first few from each pile, and if those are mostly edible, assume the whole pile is edible.\n",
    "\n",
    "First, we'll make the piles and sample each one."
   ]
  },
  {
   "cell_type": "code",
   "execution_count": 23,
   "metadata": {},
   "outputs": [
    {
     "name": "stdout",
     "output_type": "stream",
     "text": [
      "5, pick e\n",
      "3, pick e\n",
      "7, pick p\n",
      "2, pick e\n",
      "4, pick p\n",
      "6, pick e\n",
      "1, pick p\n",
      "0, pick e\n"
     ]
    }
   ],
   "source": [
    "import collections\n",
    "piles = collections.defaultdict(list)\n",
    "\n",
    "picks_dict = {}\n",
    "bad_sample_mushrooms=0\n",
    "\n",
    "for x in range(len(labels)):\n",
    "    pile_on = labels[x]\n",
    "    truth_on = Y[x]\n",
    "    piles[pile_on].append(truth_on)\n",
    "\n",
    "for pile_num, mushrooms in piles.items():\n",
    "    # pick 5 random mushrooms from the pile\n",
    "    random_mushrooms = pd.Series(mushrooms).sample(5, random_state=2718)\n",
    "    vc = random_mushrooms.value_counts()\n",
    "    if 'p' in vc:\n",
    "        bad_sample_mushrooms += vc['p']\n",
    "    consensus = random_mushrooms.mode()[0]\n",
    "    print(f\"{pile_num}, pick {consensus}\")\n",
    "    picks_dict[pile_num] = consensus"
   ]
  },
  {
   "cell_type": "markdown",
   "metadata": {},
   "source": [
    "then we'll simulate eating the ones where the consensus was edible."
   ]
  },
  {
   "cell_type": "code",
   "execution_count": 24,
   "metadata": {},
   "outputs": [
    {
     "name": "stdout",
     "output_type": "stream",
     "text": [
      ">>>eating pile 0\n",
      "skipping 1 since consensus was nonedible\n",
      ">>>eating pile 2\n",
      ">>>eating pile 3\n",
      "skipping 4 since consensus was nonedible\n",
      ">>>eating pile 5\n",
      ">>>eating pile 6\n",
      "skipping 7 since consensus was nonedible\n",
      "ate 15 bad mushrooms in sampling\n",
      "Total edible: 4112, Total poison: 427 (0.9089301503094607)\n"
     ]
    }
   ],
   "source": [
    "total_edible = total_poison = 0\n",
    "\n",
    "for (pile_on, consensus) in sorted(picks_dict.items()):\n",
    "    this_pile = piles[pile_on]\n",
    "    if consensus == \"e\":\n",
    "        print(f\">>>eating pile {pile_on}\")\n",
    "        counts = pd.Series(this_pile).value_counts()\n",
    "        if 'e' in counts:\n",
    "            total_edible += counts['e']\n",
    "        if 'p' in counts:\n",
    "            total_poison += counts['p']\n",
    "    else:\n",
    "        print(f\"skipping {pile_on} since consensus was nonedible\")\n",
    "\n",
    "print(f\"ate {bad_sample_mushrooms} bad mushrooms in sampling\")\n",
    "print(f\"Total edible: {total_edible}, Total poison: {total_poison + bad_sample_mushrooms} ({total_edible/(total_edible+total_poison)})\")"
   ]
  },
  {
   "cell_type": "markdown",
   "metadata": {},
   "source": [
    "### Agglomerative Clustering\n",
    "\n",
    "As discussed in the video, a hierarchical approach seems intuitive since we're essentially making a phylogenetic (family) tree of all the mushrooms based on physical properties.\n",
    "\n",
    "same procedure as before. split into piles, sample each one, eat the good ones, hopefully don't die"
   ]
  },
  {
   "cell_type": "code",
   "execution_count": 25,
   "metadata": {},
   "outputs": [],
   "source": [
    "glom_model = AgglomerativeClustering(n_clusters=8)\n",
    "labels = glom_model.fit_predict(df_onehot)"
   ]
  },
  {
   "cell_type": "code",
   "execution_count": 26,
   "metadata": {},
   "outputs": [
    {
     "name": "stdout",
     "output_type": "stream",
     "text": [
      "skipping 0 since consensus was nonedible\n",
      ">>>eating pile 1\n",
      ">>>eating pile 2\n",
      "skipping 3 since consensus was nonedible\n",
      ">>>eating pile 4\n",
      "skipping 5 since consensus was nonedible\n",
      ">>>eating pile 6\n",
      ">>>eating pile 7\n",
      "ate 15 bad mushrooms in sampling\n",
      "Total edible: 4016, Total poison: 171 (0.962607861936721)\n"
     ]
    }
   ],
   "source": [
    "piles = collections.defaultdict(list)\n",
    "\n",
    "picks_dict = {}\n",
    "\n",
    "bad_sample_mushrooms = 0\n",
    "\n",
    "for x in range(len(labels)):\n",
    "    pile_on = labels[x]\n",
    "    truth_on = Y[x]\n",
    "    piles[pile_on].append(truth_on)\n",
    "\n",
    "for pile_num, mushrooms in piles.items():\n",
    "    # pick 5 random mushrooms from the pile\n",
    "    random_mushrooms = pd.Series(mushrooms).sample(5, random_state=2718)\n",
    "    vc = random_mushrooms.value_counts()\n",
    "    if 'p' in vc:\n",
    "        bad_sample_mushrooms += vc['p']\n",
    "    consensus = random_mushrooms.mode()[0]\n",
    "    #print(f\"{pile_num}, pick {consensus}\")\n",
    "    picks_dict[pile_num] = consensus\n",
    "\n",
    "total_edible = total_poison = 0\n",
    "\n",
    "for (pile_on, consensus) in sorted(picks_dict.items()):\n",
    "    this_pile = piles[pile_on]\n",
    "    if consensus == \"e\":\n",
    "        print(f\">>>eating pile {pile_on}\")\n",
    "        counts = pd.Series(this_pile).value_counts()\n",
    "        if 'e' in counts:\n",
    "            total_edible += counts['e']\n",
    "        if 'p' in counts:\n",
    "            total_poison += counts['p']\n",
    "    else:\n",
    "        print(f\"skipping {pile_on} since consensus was nonedible\")\n",
    "\n",
    "print(f\"ate {bad_sample_mushrooms} bad mushrooms in sampling\")\n",
    "print(f\"Total edible: {total_edible}, Total poison: {total_poison + bad_sample_mushrooms} ({total_edible/(total_edible+total_poison)})\")"
   ]
  },
  {
   "cell_type": "markdown",
   "metadata": {},
   "source": [
    "I'm awfully biased, but that's pretty good! We did have to eat another 20 or so to determine which pile is which, but 171 total is not so bad.\n",
    "\n",
    "### vs. Supervised Solution (Decision Trees)\n",
    "\n",
    "How does this compare to a supervised model? we know we will eat some bad mushrooms no matter what, so maybe a supervised model with a training set could get us better results overall. we have to eat a buch of bad mushrooms to train the model, but if the supervised model is good enough, it could still mean fewer poisonous ones eaten."
   ]
  },
  {
   "cell_type": "code",
   "execution_count": 27,
   "metadata": {},
   "outputs": [
    {
     "name": "stdout",
     "output_type": "stream",
     "text": [
      "Accuracy: 0.9948875255623721\n",
      "Poisonous in training set: 137\n"
     ]
    },
    {
     "data": {
      "image/png": "[encoded data removed]",
      "text/plain": [
       "<Figure size 432x288 with 2 Axes>"
      ]
     },
     "metadata": {
      "needs_background": "dark"
     },
     "output_type": "display_data"
    }
   ],
   "source": [
    "from sklearn.svm import SVC\n",
    "from sklearn.tree import DecisionTreeClassifier\n",
    "\n",
    "\n",
    "from sklearn.model_selection import train_test_split\n",
    "\n",
    "def do_dt(train_size=300):\n",
    "\n",
    "  X_dt_train, X_dt_test, y_dt_train, y_dt_test = train_test_split(\n",
    "    df, Y, train_size=train_size, random_state=2718\n",
    "  )\n",
    "\n",
    "  enc = preprocessing.OneHotEncoder()#drop=most_common_for_each_factor)\n",
    "  enc.fit(df)\n",
    "  X_dt_train_onehot = enc.transform(X_dt_train).toarray()\n",
    "\n",
    "\n",
    "  X_dt_test_onehot = enc.transform(X_dt_test).toarray()\n",
    "\n",
    "  ## sklearn decision trees don't support categoricals. which is silly.\n",
    "\n",
    "\n",
    "  dt_model = DecisionTreeClassifier(random_state=2718)\n",
    "  dt_model = dt_model.fit(X_dt_train_onehot, y_dt_train)\n",
    "\n",
    "  dt_predicted = dt_model.predict(X_dt_test_onehot)\n",
    "\n",
    "\n",
    "  cm = confusion_matrix(y_dt_test, dt_predicted)\n",
    "\n",
    "  ConfusionMatrixDisplay(cm).plot()\n",
    "\n",
    "\n",
    "  acc = accuracy_score(y_dt_test, dt_predicted)\n",
    "\n",
    "  print(f\"Accuracy: {acc}\")\n",
    "  print(f\"Poisonous in training set: {y_dt_train.value_counts()['p']}\")\n",
    "do_dt()"
   ]
  },
  {
   "cell_type": "markdown",
   "metadata": {},
   "source": [
    "So, we had to eat 137 poison mushrooms to train the model, but then using the model, we only ended up eating 40 more, for 177 total. That's a little worse than the agglomerative clustering. What about an even smaller training set (note this is arguably data dredging)"
   ]
  },
  {
   "cell_type": "code",
   "execution_count": 28,
   "metadata": {},
   "outputs": [
    {
     "name": "stdout",
     "output_type": "stream",
     "text": [
      "Accuracy: 0.9531405782652044\n",
      "Poisonous in training set: 45\n"
     ]
    },
    {
     "data": {
      "image/png": "[encoded data removed]",
      "text/plain": [
       "<Figure size 432x288 with 2 Axes>"
      ]
     },
     "metadata": {
      "needs_background": "dark"
     },
     "output_type": "display_data"
    }
   ],
   "source": [
    "do_dt(100)"
   ]
  },
  {
   "cell_type": "markdown",
   "metadata": {},
   "source": [
    "it's interesting ALL the errors are type II errors. maybe that says something about the nature of poisonous mushrooms. But the overall number of poison mushrooms eaten here was worse than the 2 clustering examples (but better than matrix factorization with 2 latent topics.)"
   ]
  },
  {
   "cell_type": "markdown",
   "metadata": {},
   "source": [
    "### k-Nearest Neighbors: This is an easy problem for pretty much any supervised algorithm\n",
    "\n",
    "in the video, I talked about how easy this problem is. here's an illustration. k-Nearest Neighbors is a clustering algorithm, but it's not really unsupervised if you want to classify things based on kNN because you need to know which ones are edible or poisonous. It wouldn't be anyone's first choice for this problem, I don't think. But it still gets 100% accuracy because this is very \"well behaved\" data."
   ]
  },
  {
   "cell_type": "code",
   "execution_count": 29,
   "metadata": {},
   "outputs": [
    {
     "name": "stdout",
     "output_type": "stream",
     "text": [
      "1.0\n"
     ]
    },
    {
     "data": {
      "image/png": "[encoded data removed]",
      "text/plain": [
       "<Figure size 432x288 with 2 Axes>"
      ]
     },
     "metadata": {
      "needs_background": "dark"
     },
     "output_type": "display_data"
    }
   ],
   "source": [
    "from sklearn import neighbors\n",
    "\n",
    "neighbor_tree = neighbors.NearestNeighbors(n_neighbors=3, algorithm='ball_tree').fit(df_onehot)\n",
    "\n",
    "# find the neighbors of each test datapoint in the neighbor tree\n",
    "distances, indices = neighbor_tree.kneighbors(df_onehot)\n",
    "nn_nopca_predicted = []\n",
    "for i in indices:\n",
    "    neighbor_values = Y[i]\n",
    "    #print(f\"neighbor: {neighbor_values}\")\n",
    "    consensus = neighbor_values.value_counts().idxmax()\n",
    "    nn_nopca_predicted.append(consensus)\n",
    "\n",
    "\n",
    "cm = confusion_matrix(Y, nn_nopca_predicted)\n",
    "\n",
    "ConfusionMatrixDisplay(cm).plot()\n",
    "\n",
    "\n",
    "acc = accuracy_score(Y, nn_nopca_predicted)\n",
    "\n",
    "print(acc)"
   ]
  },
  {
   "cell_type": "markdown",
   "metadata": {},
   "source": [
    "citations given in introduction. some snippets of code adapted from examples on scikit-learn.org"
   ]
  },
  {
   "cell_type": "code",
   "execution_count": null,
   "metadata": {},
   "outputs": [],
   "source": []
  }
 ],
 "metadata": {
  "interpreter": {
   "hash": "3e5e67dba9ec50688b51d210d69127116c7da1f67ec0df7da4b6c1a14dc73fba"
  },
  "kernelspec": {
   "display_name": "Python 3.9.13 ('py3-data')",
   "language": "python",
   "name": "python3"
  },
  "language_info": {
   "codemirror_mode": {
    "name": "ipython",
    "version": 3
   },
   "file_extension": ".py",
   "mimetype": "text/x-python",
   "name": "python",
   "nbconvert_exporter": "python",
   "pygments_lexer": "ipython3",
   "version": "3.9.13"
  },
  "orig_nbformat": 4
 },
 "nbformat": 4,
 "nbformat_minor": 2
}
